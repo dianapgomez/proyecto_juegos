{
 "cells": [
  {
   "cell_type": "code",
   "execution_count": 5,
   "metadata": {},
   "outputs": [
    {
     "name": "stdout",
     "output_type": "stream",
     "text": [
      "***JUEGO DEL AHORCADO***\n",
      "Este es el juego del ahorcado. Tienes que adivinar la palabra secreta antes de que el ahorcado se complete. Te damos una PISTA: Todas las palabras secretas son animales de compañía\n"
     ]
    },
    {
     "name": "stdout",
     "output_type": "stream",
     "text": [
      "\n",
      "-+------\n",
      " 0     |\n",
      "       |\n",
      "       |\n",
      "       |\n",
      " ______|\n",
      "letras_incorrectas:['g']\n",
      "\n",
      "-+------\n",
      " 0     |\n",
      " |     |\n",
      " |     |\n",
      "       |\n",
      " ______|\n",
      "letras_incorrectas:['g', 'w']\n",
      "\n",
      "-+------\n",
      " 0     |\n",
      "/|     |\n",
      " |     |\n",
      "       |\n",
      " ______|\n",
      "letras_incorrectas:['g', 'w', 'q']\n",
      "c _ _ _ _ _\n",
      "\n",
      "-+------\n",
      " 0     |\n",
      "/|\\    |\n",
      " |     |\n",
      "       |\n",
      " ______|\n",
      "letras_incorrectas:['g', 'w', 'q', 'l']\n",
      "\n",
      "-+------\n",
      " 0     |\n",
      "/|\\    |\n",
      " |     |\n",
      "/      |\n",
      " ______|\n",
      "letras_incorrectas:['g', 'w', 'q', 'l', 's']\n",
      "\n",
      "-+------\n",
      " 0     |\n",
      "/|\\    |\n",
      " |     |\n",
      "/ \\    |\n",
      " ______|\n",
      "letras_incorrectas:['g', 'w', 'q', 'l', 's', 'r']\n",
      "¡Has perdido! La palabra secreta era conejo\n"
     ]
    }
   ],
   "source": [
    "print(\"***JUEGO DEL AHORCADO***\")\n",
    "print(\"Este es el juego del ahorcado. Tienes que adivinar la palabra secreta antes de que el ahorcado se complete. Te damos una PISTA: Todas las palabras secretas son animales de compañía\")\n",
    "\n",
    "import random\n",
    "\n",
    "palabras_ahorcado = \"gato\", \"perro\", \"conejo\", \"hamster\", \"periquito\", \"cobaya\"\n",
    "\n",
    "palabra_secreta = random.choice(palabras_ahorcado)\n",
    "\n",
    "huecos = [\"_\"] * len(palabra_secreta)\n",
    "\n",
    "contador_errores = 0\n",
    "\n",
    "# Horca completa\n",
    "horca_6 = \"\\n-+------\" \"\\n 0     |\" \"\\n/|\\\\    |\" \"\\n |     |\" \"\\n/ \\\\    |\" \"\\n ______|\"\n",
    "\n",
    "# Horca pierna izquierda\n",
    "\n",
    "horca_5 = \"\\n-+------\" \"\\n 0     |\" \"\\n/|\\\\    |\" \"\\n |     |\" \"\\n/      |\" \"\\n ______|\"\n",
    "\n",
    "#horca brazo derecho\n",
    "\n",
    "horca_4 = \"\\n-+------\" \"\\n 0     |\" \"\\n/|\\\\    |\" \"\\n |     |\" \"\\n       |\" \"\\n ______|\"\n",
    "\n",
    "#horca brazo izquierdo\n",
    "horca_3 = \"\\n-+------\" \"\\n 0     |\" \"\\n/|     |\" \"\\n |     |\" \"\\n       |\" \"\\n ______|\"\n",
    "\n",
    "# horca cuerpo\n",
    "\n",
    "horca_2 = \"\\n-+------\" \"\\n 0     |\" \"\\n |     |\" \"\\n |     |\" \"\\n       |\" \"\\n ______|\"\n",
    "\n",
    "#horca cabeza\n",
    "\n",
    "horca_1 = \"\\n-+------\" \"\\n 0     |\" \"\\n       |\" \"\\n       |\" \"\\n       |\" \"\\n ______|\"\n",
    "\n",
    "# Horca vacía\n",
    "\n",
    "horca_0 = \"\\n-+------\" \"\\n       |\" \"\\n       |\" \"\\n       |\" \"\\n       |\" \"\\n ______|\"\n",
    "\n",
    "# lista de horcas\n",
    "\n",
    "horcas = [horca_0, horca_1, horca_2, horca_3, horca_4, horca_5, horca_6]\n",
    "\n",
    "jugando = True\n",
    "\n",
    "def actualizar_huecos(palabra_secre, huecos, letra):\n",
    "        for i in range(len(palabra_secre)):\n",
    "            if palabra_secre[i] == letra:  \n",
    "                huecos[i] = letra  \n",
    "\n",
    "letras_fallo = []\n",
    "\n",
    "while jugando:\n",
    "    letra = input(\"Ingresa una letra: \").lower()\n",
    "\n",
    "    if letra in palabra_secreta:\n",
    "\n",
    "        actualizar_huecos(palabra_secreta, huecos, letra)\n",
    "\n",
    "        print(\" \".join(huecos))\n",
    "\n",
    "    if letra not in palabra_secreta:\n",
    "        letras_fallo.append(letra)\n",
    "        contador_errores +=1\n",
    "        print(horcas[contador_errores],sep=\" \")\n",
    "        print(f\"letras_incorrectas:{letras_fallo}\")\n",
    "\n",
    "    if \"_\" not in huecos:\n",
    "         print(\"¡Has adivinado la palabra!\")\n",
    "         jugando = False\n",
    "    \n",
    "    elif contador_errores == 6:\n",
    "         print(\"¡Has perdido! La palabra secreta era\", palabra_secreta)\n",
    "         jugando = False\n",
    "\n",
    "\n",
    "\n",
    "\n",
    "\n",
    "# Hay que hacer un while que repita el bloque de juego hasta que los huecos estén completados o lleguemos a la horca 6\n",
    "# Cuando salga la horca mostrar un acumulativo de las letras que no están en la palabra secreta"
   ]
  },
  {
   "cell_type": "code",
   "execution_count": 2,
   "metadata": {},
   "outputs": [
    {
     "data": {
      "text/plain": [
       "[]"
      ]
     },
     "execution_count": 2,
     "metadata": {},
     "output_type": "execute_result"
    }
   ],
   "source": [
    "letras_fallo"
   ]
  }
 ],
 "metadata": {
  "kernelspec": {
   "display_name": "Python 3",
   "language": "python",
   "name": "python3"
  },
  "language_info": {
   "codemirror_mode": {
    "name": "ipython",
    "version": 3
   },
   "file_extension": ".py",
   "mimetype": "text/x-python",
   "name": "python",
   "nbconvert_exporter": "python",
   "pygments_lexer": "ipython3",
   "version": "3.11.9"
  }
 },
 "nbformat": 4,
 "nbformat_minor": 2
}

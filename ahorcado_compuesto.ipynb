{
 "cells": [
  {
   "cell_type": "code",
   "execution_count": null,
   "metadata": {},
   "outputs": [
    {
     "ename": "IndentationError",
     "evalue": "unexpected indent (3113836706.py, line 75)",
     "output_type": "error",
     "traceback": [
      "\u001b[1;36m  Cell \u001b[1;32mIn[20], line 75\u001b[1;36m\u001b[0m\n\u001b[1;33m    elif letra not in palabra_secreta:\u001b[0m\n\u001b[1;37m    ^\u001b[0m\n\u001b[1;31mIndentationError\u001b[0m\u001b[1;31m:\u001b[0m unexpected indent\n"
     ]
    }
   ],
   "source": [
    "print(\"***JUEGO DEL AHORCADO***\")\n",
    "print(\"Este es el juego del ahorcado. Tienes que adivinar la palabra secreta antes de que el ahorcado se complete. Te damos una PISTA: Todas las palabras secretas son animales de compañía\")\n",
    "\n",
    "import random\n",
    "\n",
    "palabras_ahorcado = \"gato\", \"perro\", \"conejo\", \"hamster\", \"periquito\", \"cobaya\"\n",
    "\n",
    "palabra_secreta = random.choice(palabras_ahorcado)\n",
    "\n",
    "huecos = [\"_\"] * len(palabra_secreta)\n",
    "\n",
    "\n",
    "\n",
    "# Horca completa\n",
    "horca_6 = \"\\n-+------\" \"\\n 0     |\" \"\\n/|\\\\    |\" \"\\n |     |\" \"\\n/ \\\\    |\" \"\\n ______|\"\n",
    "\n",
    "# Horca pierna izquierda\n",
    "\n",
    "horca_5 = \"\\n-+------\" \"\\n 0     |\" \"\\n/|\\\\    |\" \"\\n |     |\" \"\\n/      |\" \"\\n ______|\"\n",
    "\n",
    "#horca brazo derecho\n",
    "\n",
    "horca_4 = \"\\n-+------\" \"\\n 0     |\" \"\\n/|\\\\    |\" \"\\n |     |\" \"\\n       |\" \"\\n ______|\"\n",
    "\n",
    "#horca brazo izquierdo\n",
    "horca_3 = \"\\n-+------\" \"\\n 0     |\" \"\\n/|     |\" \"\\n |     |\" \"\\n       |\" \"\\n ______|\"\n",
    "\n",
    "# horca cuerpo\n",
    "\n",
    "horca_2 = \"\\n-+------\" \"\\n 0     |\" \"\\n |     |\" \"\\n |     |\" \"\\n       |\" \"\\n ______|\"\n",
    "\n",
    "#horca cabeza\n",
    "\n",
    "horca_1 = \"\\n-+------\" \"\\n 0     |\" \"\\n       |\" \"\\n       |\" \"\\n       |\" \"\\n ______|\"\n",
    "\n",
    "# Horca vacía\n",
    "\n",
    "horca_0 = \"\\n-+------\" \"\\n       |\" \"\\n       |\" \"\\n       |\" \"\\n       |\" \"\\n ______|\"\n",
    "\n",
    "# lista de horcas\n",
    "\n",
    "horcas = [horca_0, horca_1, horca_2, horca_3, horca_4, horca_5, horca_6]\n",
    "\n",
    "jugando = True\n",
    "\n",
    "def actualizar_huecos(palabra_secre, huecos, letra):\n",
    "        for i in range(len(palabra_secre)):\n",
    "            if palabra_secre[i] == letra:  \n",
    "                huecos[i] = letra  \n",
    "\n",
    "letras_fallo = []\n",
    "\n",
    "while jugando:\n",
    "    letra = input(\"Ingresa una letra: \").lower()\n",
    "\n",
    "    if letra in palabra_secreta:\n",
    "\n",
    "        actualizar_huecos(palabra_secreta, huecos, letra)\n",
    "        print(\" \".join(huecos))\n",
    "          \n",
    "\n",
    "    elif letra not in palabra_secreta:\n",
    "        letras_fallo.append(letra)\n",
    "                \n",
    "        print(horcas[len(letras_fallo)],sep=\" \")\n",
    "        print(f\"letras_incorrectas:{letras_fallo}\")\n",
    "\n",
    "\n",
    "        if \"_\" not in huecos:\n",
    "            print(\"¡Has adivinado la palabra!\")\n",
    "            jugando = False\n",
    "\n",
    "            \n",
    "        elif len(letras_fallo) == 6:\n",
    "            print(\"¡Has perdido! La palabra secreta era\", palabra_secreta)\n",
    "            jugando = False\n",
    "\n",
    "\n",
    "\n",
    "\n",
    "\n",
    "# Hay que hacer un while que repita el bloque de juego hasta que los huecos estén completados o lleguemos a la horca 6\n",
    "# Cuando salga la horca mostrar un acumulativo de las letras que no están en la palabra secreta"
   ]
  },
  {
   "cell_type": "code",
   "execution_count": 2,
   "metadata": {},
   "outputs": [
    {
     "data": {
      "text/plain": [
       "[]"
      ]
     },
     "execution_count": 2,
     "metadata": {},
     "output_type": "execute_result"
    }
   ],
   "source": [
    "letras_fallo"
   ]
  },
  {
   "cell_type": "code",
   "execution_count": null,
   "metadata": {},
   "outputs": [],
   "source": [
    "        resolver1 = input (\"¿Sabes la palabra? Si o no\").lower()\n",
    "        if resolver1 == \"si\":\n",
    "            resolver2 = input(\"¿Sabes la palabra? Introdúcela\").lower()\n",
    "\n",
    "            if resolver2 == palabra_secreta:\n",
    "                jugando = False\n",
    "                print(f\"¡Has ganado! La palabra secreta era: {palabra_secreta}\")\n",
    "\n",
    "            else:\n",
    "                print(\"La palabra introducida es incorrecta\")\n",
    "                continue"
   ]
  }
 ],
 "metadata": {
  "kernelspec": {
   "display_name": "Python 3",
   "language": "python",
   "name": "python3"
  },
  "language_info": {
   "codemirror_mode": {
    "name": "ipython",
    "version": 3
   },
   "file_extension": ".py",
   "mimetype": "text/x-python",
   "name": "python",
   "nbconvert_exporter": "python",
   "pygments_lexer": "ipython3",
   "version": "3.11.9"
  }
 },
 "nbformat": 4,
 "nbformat_minor": 2
}

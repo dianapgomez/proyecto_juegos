{
 "cells": [
  {
   "cell_type": "code",
   "execution_count": null,
   "metadata": {},
   "outputs": [
    {
     "name": "stdout",
     "output_type": "stream",
     "text": [
      "***JUEGO DEL AHORCADO***\n",
      "Este es el juego del ahorcado. Tienes que adivinar la palabra secreta antes de que el ahorcado se complete. Te damos una PISTA: Todas las palabras secretas son animales de compañía\n"
     ]
    },
    {
     "name": "stdout",
     "output_type": "stream",
     "text": [
      "\n",
      "-+------\n",
      " 0     |\n",
      "       |\n",
      "       |\n",
      "       |\n",
      " ______|\n",
      "letras_incorrectas:['g']\n",
      "\n",
      "-+------\n",
      " 0     |\n",
      " |     |\n",
      " |     |\n",
      "       |\n",
      " ______|\n",
      "letras_incorrectas:['a']\n",
      "\n",
      "-+------\n",
      " 0     |\n",
      "/|     |\n",
      " |     |\n",
      "       |\n",
      " ______|\n",
      "letras_incorrectas:['k']\n"
     ]
    },
    {
     "ename": "KeyboardInterrupt",
     "evalue": "Interrupted by user",
     "output_type": "error",
     "traceback": [
      "\u001b[1;31m---------------------------------------------------------------------------\u001b[0m",
      "\u001b[1;31mKeyboardInterrupt\u001b[0m                         Traceback (most recent call last)",
      "Cell \u001b[1;32mIn[1], line 53\u001b[0m\n\u001b[0;32m     51\u001b[0m \u001b[38;5;28;01mwhile\u001b[39;00m jugando:\n\u001b[0;32m     52\u001b[0m     letras_fallo \u001b[38;5;241m=\u001b[39m []\n\u001b[1;32m---> 53\u001b[0m     letra \u001b[38;5;241m=\u001b[39m \u001b[38;5;28;43minput\u001b[39;49m\u001b[43m(\u001b[49m\u001b[38;5;124;43m\"\u001b[39;49m\u001b[38;5;124;43mIngresa una letra: \u001b[39;49m\u001b[38;5;124;43m\"\u001b[39;49m\u001b[43m)\u001b[49m\u001b[38;5;241m.\u001b[39mlower()\n\u001b[0;32m     55\u001b[0m     \u001b[38;5;28;01mif\u001b[39;00m letra \u001b[38;5;129;01min\u001b[39;00m palabra_secreta:\n\u001b[0;32m     57\u001b[0m         actualizar_huecos(palabra_secreta, huecos, letra)\n",
      "File \u001b[1;32m~\\AppData\\Local\\Packages\\PythonSoftwareFoundation.Python.3.11_qbz5n2kfra8p0\\LocalCache\\local-packages\\Python311\\site-packages\\ipykernel\\kernelbase.py:1282\u001b[0m, in \u001b[0;36mKernel.raw_input\u001b[1;34m(self, prompt)\u001b[0m\n\u001b[0;32m   1280\u001b[0m     msg \u001b[38;5;241m=\u001b[39m \u001b[38;5;124m\"\u001b[39m\u001b[38;5;124mraw_input was called, but this frontend does not support input requests.\u001b[39m\u001b[38;5;124m\"\u001b[39m\n\u001b[0;32m   1281\u001b[0m     \u001b[38;5;28;01mraise\u001b[39;00m StdinNotImplementedError(msg)\n\u001b[1;32m-> 1282\u001b[0m \u001b[38;5;28;01mreturn\u001b[39;00m \u001b[38;5;28;43mself\u001b[39;49m\u001b[38;5;241;43m.\u001b[39;49m\u001b[43m_input_request\u001b[49m\u001b[43m(\u001b[49m\n\u001b[0;32m   1283\u001b[0m \u001b[43m    \u001b[49m\u001b[38;5;28;43mstr\u001b[39;49m\u001b[43m(\u001b[49m\u001b[43mprompt\u001b[49m\u001b[43m)\u001b[49m\u001b[43m,\u001b[49m\n\u001b[0;32m   1284\u001b[0m \u001b[43m    \u001b[49m\u001b[38;5;28;43mself\u001b[39;49m\u001b[38;5;241;43m.\u001b[39;49m\u001b[43m_parent_ident\u001b[49m\u001b[43m[\u001b[49m\u001b[38;5;124;43m\"\u001b[39;49m\u001b[38;5;124;43mshell\u001b[39;49m\u001b[38;5;124;43m\"\u001b[39;49m\u001b[43m]\u001b[49m\u001b[43m,\u001b[49m\n\u001b[0;32m   1285\u001b[0m \u001b[43m    \u001b[49m\u001b[38;5;28;43mself\u001b[39;49m\u001b[38;5;241;43m.\u001b[39;49m\u001b[43mget_parent\u001b[49m\u001b[43m(\u001b[49m\u001b[38;5;124;43m\"\u001b[39;49m\u001b[38;5;124;43mshell\u001b[39;49m\u001b[38;5;124;43m\"\u001b[39;49m\u001b[43m)\u001b[49m\u001b[43m,\u001b[49m\n\u001b[0;32m   1286\u001b[0m \u001b[43m    \u001b[49m\u001b[43mpassword\u001b[49m\u001b[38;5;241;43m=\u001b[39;49m\u001b[38;5;28;43;01mFalse\u001b[39;49;00m\u001b[43m,\u001b[49m\n\u001b[0;32m   1287\u001b[0m \u001b[43m\u001b[49m\u001b[43m)\u001b[49m\n",
      "File \u001b[1;32m~\\AppData\\Local\\Packages\\PythonSoftwareFoundation.Python.3.11_qbz5n2kfra8p0\\LocalCache\\local-packages\\Python311\\site-packages\\ipykernel\\kernelbase.py:1325\u001b[0m, in \u001b[0;36mKernel._input_request\u001b[1;34m(self, prompt, ident, parent, password)\u001b[0m\n\u001b[0;32m   1322\u001b[0m \u001b[38;5;28;01mexcept\u001b[39;00m \u001b[38;5;167;01mKeyboardInterrupt\u001b[39;00m:\n\u001b[0;32m   1323\u001b[0m     \u001b[38;5;66;03m# re-raise KeyboardInterrupt, to truncate traceback\u001b[39;00m\n\u001b[0;32m   1324\u001b[0m     msg \u001b[38;5;241m=\u001b[39m \u001b[38;5;124m\"\u001b[39m\u001b[38;5;124mInterrupted by user\u001b[39m\u001b[38;5;124m\"\u001b[39m\n\u001b[1;32m-> 1325\u001b[0m     \u001b[38;5;28;01mraise\u001b[39;00m \u001b[38;5;167;01mKeyboardInterrupt\u001b[39;00m(msg) \u001b[38;5;28;01mfrom\u001b[39;00m\u001b[38;5;250m \u001b[39m\u001b[38;5;28;01mNone\u001b[39;00m\n\u001b[0;32m   1326\u001b[0m \u001b[38;5;28;01mexcept\u001b[39;00m \u001b[38;5;167;01mException\u001b[39;00m:\n\u001b[0;32m   1327\u001b[0m     \u001b[38;5;28mself\u001b[39m\u001b[38;5;241m.\u001b[39mlog\u001b[38;5;241m.\u001b[39mwarning(\u001b[38;5;124m\"\u001b[39m\u001b[38;5;124mInvalid Message:\u001b[39m\u001b[38;5;124m\"\u001b[39m, exc_info\u001b[38;5;241m=\u001b[39m\u001b[38;5;28;01mTrue\u001b[39;00m)\n",
      "\u001b[1;31mKeyboardInterrupt\u001b[0m: Interrupted by user"
     ]
    }
   ],
   "source": [
    "print(\"***JUEGO DEL AHORCADO***\")\n",
    "print(\"Este es el juego del ahorcado. Tienes que adivinar la palabra secreta antes de que el ahorcado se complete. Te damos una PISTA: Todas las palabras secretas son animales de compañía\")\n",
    "\n",
    "import random\n",
    "\n",
    "palabras_ahorcado = \"gato\", \"perro\", \"conejo\", \"hamster\", \"periquito\", \"cobaya\"\n",
    "\n",
    "palabra_secreta = random.choice(palabras_ahorcado)\n",
    "\n",
    "huecos = [\"_\"] * len(palabra_secreta)\n",
    "\n",
    "contador_errores = 0\n",
    "\n",
    "# Horca completa\n",
    "horca_6 = \"\\n-+------\" \"\\n 0     |\" \"\\n/|\\\\   |\" \"\\n |     |\" \"\\n/ \\\\   |\" \"\\n ______|\"\n",
    "\n",
    "# Horca pierna izquierda\n",
    "\n",
    "horca_5 = \"\\n-+------\" \"\\n 0     |\" \"\\n/|\\\\   |\" \"\\n |     |\" \"\\n/      |\" \"\\n ______|\"\n",
    "\n",
    "#horca brazo derecho\n",
    "\n",
    "horca_4 = \"\\n-+------\" \"\\n 0     |\" \"\\n/|\\\\    |\" \"\\n |     |\" \"\\n       |\" \"\\n ______|\"\n",
    "\n",
    "#horca brazo izquierdo\n",
    "horca_3 = \"\\n-+------\" \"\\n 0     |\" \"\\n/|     |\" \"\\n |     |\" \"\\n       |\" \"\\n ______|\"\n",
    "\n",
    "# horca cuerpo\n",
    "\n",
    "horca_2 = \"\\n-+------\" \"\\n 0     |\" \"\\n |     |\" \"\\n |     |\" \"\\n       |\" \"\\n ______|\"\n",
    "\n",
    "#horca cabeza\n",
    "\n",
    "horca_1 = \"\\n-+------\" \"\\n 0     |\" \"\\n       |\" \"\\n       |\" \"\\n       |\" \"\\n ______|\"\n",
    "\n",
    "# Horca vacía\n",
    "\n",
    "horca_0 = \"\\n-+------\" \"\\n       |\" \"\\n       |\" \"\\n       |\" \"\\n       |\" \"\\n ______|\"\n",
    "\n",
    "# lista de horcas\n",
    "\n",
    "horcas = [horca_0, horca_1, horca_2, horca_3, horca_4, horca_5, horca_6]\n",
    "\n",
    "jugando = True\n",
    "\n",
    "def actualizar_huecos(palabra_secre, huecos, letra):\n",
    "        for i in range(len(palabra_secre)):\n",
    "            if palabra_secre[i] == letra:  \n",
    "                huecos[i] = letra  \n",
    "\n",
    "letras_fallo = []\n",
    "\n",
    "while jugando:\n",
    "    letra = input(\"Ingresa una letra: \").lower()\n",
    "\n",
    "    if letra in palabra_secreta:\n",
    "\n",
    "        actualizar_huecos(palabra_secreta, huecos, letra)\n",
    "\n",
    "        print(\" \".join(huecos))\n",
    "\n",
    "    if letra not in palabra_secreta:\n",
    "        letras_fallo.append(letra)\n",
    "        contador_errores +=1\n",
    "        print(horcas[contador_errores],sep=\" \")\n",
    "        print(f\"letras_incorrectas:{letras_fallo}\")\n",
    "\n",
    "    if \"_\" not in huecos:\n",
    "         print(\"¡Has adivinado la palabra!\")\n",
    "         jugando = False\n",
    "    \n",
    "    elif contador_errores == 6:\n",
    "         print(\"¡Has perdido! La palabra secreta era\", palabra_secreta)\n",
    "         jugando = False\n",
    "\n",
    "\n",
    "\n",
    "\n",
    "\n",
    "# Hay que hacer un while que repita el bloque de juego hasta que los huecos estén completados o lleguemos a la horca 6\n",
    "# Cuando salga la horca mostrar un acumulativo de las letras que no están en la palabra secreta"
   ]
  },
  {
   "cell_type": "code",
   "execution_count": 2,
   "metadata": {},
   "outputs": [
    {
     "data": {
      "text/plain": [
       "[]"
      ]
     },
     "execution_count": 2,
     "metadata": {},
     "output_type": "execute_result"
    }
   ],
   "source": [
    "letras_fallo"
   ]
  }
 ],
 "metadata": {
  "kernelspec": {
   "display_name": "Python 3",
   "language": "python",
   "name": "python3"
  },
  "language_info": {
   "codemirror_mode": {
    "name": "ipython",
    "version": 3
   },
   "file_extension": ".py",
   "mimetype": "text/x-python",
   "name": "python",
   "nbconvert_exporter": "python",
   "pygments_lexer": "ipython3",
   "version": "3.11.9"
  }
 },
 "nbformat": 4,
 "nbformat_minor": 2
}

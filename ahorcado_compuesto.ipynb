{
 "cells": [
  {
   "cell_type": "code",
   "execution_count": null,
   "metadata": {},
   "outputs": [
    {
     "name": "stdout",
     "output_type": "stream",
     "text": [
      "***JUEGO DEL AHORCADO***\n",
      "Este es el juego del ahorcado. Tienes que adivinar la palabra secreta antes de que el ahorcado se complete. Te damos una PISTA: Todas las palabras secretas son animales de compañía\n"
     ]
    },
    {
     "name": "stdout",
     "output_type": "stream",
     "text": [
      "\n",
      "-+------\n",
      " 0     |\n",
      "       |\n",
      "       |\n",
      "       |\n",
      " ______|\n",
      "letras_incorrectas:['a']\n",
      "\n",
      "-+------\n",
      " 0     |\n",
      " |     |\n",
      " |     |\n",
      "       |\n",
      " ______|\n",
      "letras_incorrectas:['a', 'c']\n",
      "\n",
      "-+------\n",
      " 0     |\n",
      "/|     |\n",
      " |     |\n",
      "       |\n",
      " ______|\n",
      "letras_incorrectas:['a', 'c', 'h']\n",
      "p _ _ _ _ _ _ _ _\n"
     ]
    },
    {
     "ename": "NameError",
     "evalue": "name 'resolver2' is not defined",
     "output_type": "error",
     "traceback": [
      "\u001b[1;31m---------------------------------------------------------------------------\u001b[0m",
      "\u001b[1;31mNameError\u001b[0m                                 Traceback (most recent call last)",
      "Cell \u001b[1;32mIn[14], line 67\u001b[0m\n\u001b[0;32m     64\u001b[0m \u001b[38;5;28;01melse\u001b[39;00m: \n\u001b[0;32m     65\u001b[0m     \u001b[38;5;28minput\u001b[39m(\u001b[38;5;124m\"\u001b[39m\u001b[38;5;124mIngresa una letra: \u001b[39m\u001b[38;5;124m\"\u001b[39m)\u001b[38;5;241m.\u001b[39mlower()\n\u001b[1;32m---> 67\u001b[0m     \u001b[38;5;28;01mif\u001b[39;00m \u001b[43mresolver2\u001b[49m \u001b[38;5;241m==\u001b[39m palabra_secreta:\n\u001b[0;32m     68\u001b[0m         jugando \u001b[38;5;241m=\u001b[39m \u001b[38;5;28;01mFalse\u001b[39;00m\n\u001b[0;32m     69\u001b[0m         \u001b[38;5;28mprint\u001b[39m(\u001b[38;5;124mf\u001b[39m\u001b[38;5;124m\"\u001b[39m\u001b[38;5;124m¡Has ganado! La palabra secreta era: \u001b[39m\u001b[38;5;132;01m{\u001b[39;00mpalabra_secreta\u001b[38;5;132;01m}\u001b[39;00m\u001b[38;5;124m\"\u001b[39m)\n",
      "\u001b[1;31mNameError\u001b[0m: name 'resolver2' is not defined"
     ]
    }
   ],
   "source": [
    "print(\"***JUEGO DEL AHORCADO***\")\n",
    "print(\"Este es el juego del ahorcado. Tienes que adivinar la palabra secreta antes de que el ahorcado se complete. Te damos una PISTA: Todas las palabras secretas son animales de compañía\")\n",
    "\n",
    "import random\n",
    "\n",
    "palabras_ahorcado = \"gato\", \"perro\", \"conejo\", \"hamster\", \"periquito\", \"cobaya\"\n",
    "\n",
    "palabra_secreta = random.choice(palabras_ahorcado)\n",
    "\n",
    "huecos = [\"_\"] * len(palabra_secreta)\n",
    "\n",
    "\n",
    "\n",
    "# Horca completa\n",
    "horca_6 = \"\\n-+------\" \"\\n 0     |\" \"\\n/|\\\\    |\" \"\\n |     |\" \"\\n/ \\\\    |\" \"\\n ______|\"\n",
    "\n",
    "# Horca pierna izquierda\n",
    "\n",
    "horca_5 = \"\\n-+------\" \"\\n 0     |\" \"\\n/|\\\\    |\" \"\\n |     |\" \"\\n/      |\" \"\\n ______|\"\n",
    "\n",
    "#horca brazo derecho\n",
    "\n",
    "horca_4 = \"\\n-+------\" \"\\n 0     |\" \"\\n/|\\\\    |\" \"\\n |     |\" \"\\n       |\" \"\\n ______|\"\n",
    "\n",
    "#horca brazo izquierdo\n",
    "horca_3 = \"\\n-+------\" \"\\n 0     |\" \"\\n/|     |\" \"\\n |     |\" \"\\n       |\" \"\\n ______|\"\n",
    "\n",
    "# horca cuerpo\n",
    "\n",
    "horca_2 = \"\\n-+------\" \"\\n 0     |\" \"\\n |     |\" \"\\n |     |\" \"\\n       |\" \"\\n ______|\"\n",
    "\n",
    "#horca cabeza\n",
    "\n",
    "horca_1 = \"\\n-+------\" \"\\n 0     |\" \"\\n       |\" \"\\n       |\" \"\\n       |\" \"\\n ______|\"\n",
    "\n",
    "# Horca vacía\n",
    "\n",
    "horca_0 = \"\\n-+------\" \"\\n       |\" \"\\n       |\" \"\\n       |\" \"\\n       |\" \"\\n ______|\"\n",
    "\n",
    "# lista de horcas\n",
    "\n",
    "horcas = [horca_0, horca_1, horca_2, horca_3, horca_4, horca_5, horca_6]\n",
    "\n",
    "jugando = True\n",
    "\n",
    "def actualizar_huecos(palabra_secre, huecos, letra):\n",
    "        for i in range(len(palabra_secre)):\n",
    "            if palabra_secre[i] == letra:  \n",
    "                huecos[i] = letra  \n",
    "\n",
    "letras_fallo = []\n",
    "\n",
    "while jugando:\n",
    "    letra = input(\"Ingresa una letra: \").lower()\n",
    "\n",
    "    if letra in palabra_secreta:\n",
    "\n",
    "        actualizar_huecos(palabra_secreta, huecos, letra)\n",
    "        print(\" \".join(huecos))\n",
    "        resolver1 = input (\"¿Sabes la palabra? Si o no\").lower()\n",
    "        if resolver1 == \"Si\":\n",
    "            resolver2 = input(\"¿Sabes la palabra? Introdúcela\").lower()\n",
    "\n",
    "        else: \n",
    "            input(\"Ingresa una letra: \").lower()\n",
    "             \n",
    "            if resolver2 == palabra_secreta:\n",
    "                jugando = False\n",
    "                print(f\"¡Has ganado! La palabra secreta era: {palabra_secreta}\")\n",
    "\n",
    "            else:\n",
    "                print(\"La palabra introducida es incorrecta\")\n",
    "                continue\n",
    "\n",
    "    if letra not in palabra_secreta:\n",
    "        letras_fallo.append(letra)\n",
    "        \n",
    "        print(horcas[len(letras_fallo)],sep=\" \")\n",
    "        print(f\"letras_incorrectas:{letras_fallo}\")\n",
    "\n",
    "\n",
    "    if \"_\" not in huecos:\n",
    "         print(\"¡Has adivinado la palabra!\")\n",
    "         jugando = False\n",
    "\n",
    "    \n",
    "    elif len(letras_fallo) == 6:\n",
    "         print(\"¡Has perdido! La palabra secreta era\", palabra_secreta)\n",
    "         jugando = False\n",
    "\n",
    "\n",
    "\n",
    "\n",
    "\n",
    "# Hay que hacer un while que repita el bloque de juego hasta que los huecos estén completados o lleguemos a la horca 6\n",
    "# Cuando salga la horca mostrar un acumulativo de las letras que no están en la palabra secreta"
   ]
  },
  {
   "cell_type": "code",
   "execution_count": 2,
   "metadata": {},
   "outputs": [
    {
     "data": {
      "text/plain": [
       "[]"
      ]
     },
     "execution_count": 2,
     "metadata": {},
     "output_type": "execute_result"
    }
   ],
   "source": [
    "letras_fallo"
   ]
  }
 ],
 "metadata": {
  "kernelspec": {
   "display_name": "Python 3",
   "language": "python",
   "name": "python3"
  },
  "language_info": {
   "codemirror_mode": {
    "name": "ipython",
    "version": 3
   },
   "file_extension": ".py",
   "mimetype": "text/x-python",
   "name": "python",
   "nbconvert_exporter": "python",
   "pygments_lexer": "ipython3",
   "version": "3.11.9"
  }
 },
 "nbformat": 4,
 "nbformat_minor": 2
}

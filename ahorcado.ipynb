{
 "cells": [
  {
   "cell_type": "markdown",
   "metadata": {},
   "source": [
    "# AHORCADO"
   ]
  },
  {
   "cell_type": "markdown",
   "metadata": {},
   "source": [
    "- Reglas del juego del \"Ahorcado\":\n",
    "\n",
    "    - Un jugador elige una palabra secreta y dibuja un espacio para cada letra de la palabra. → input palabra\n",
    "\n",
    "    - El otro jugador intenta adivinar letras para completar la palabra. → input letras\n",
    "\n",
    "    - Si el jugador adivinador adivina una letra correctamente, se revela en su lugar correspondiente. → dentro un if input letra in input palabra  print index. bucle for que itere por todas las letras y imprima la letra en su posición correspondiente\n",
    "\n",
    "    - Si el jugador adivinador adivina incorrectamente, se dibuja una parte del cuerpo en la horca. else num aciertos = 6 = cabeza. numero de aciertos = 5\n",
    "\n",
    "    - El objetivo del jugador adivinador es adivinar la palabra antes de que se dibuje el dibujo completo en la horca.\n",
    "\n",
    "\n",
    "- Pistas para las alumnas:\n",
    "\n",
    "    1. Empieza por seleccionar una palabra secreta para que el jugador adivinador intente adivinar. Puedes crear una lista de palabras. random de lista de palabras\n",
    "\n",
    "    2. Inicializa el tablero de juego con guiones bajos (\"_\") para representar las letras no adivinadas. len palabra _ _ _ _ _ \n",
    "\n",
    "    3. Utiliza un bucle `while` para permitir que el jugador adivinador haga múltiples intentos hasta que adivine la palabra o se agoten los intentos. en vez de intentos es la figura del ahorcado\n",
    "\n",
    "    4. Verifica si la letra adivinada por el jugador está en la palabra secreta y actualicen el tablero en consecuencia.\n",
    "\n",
    "    5. Lleva un seguimiento de las letras adivinadas y los intentos fallidos.[Letras que no están en la palabra: ]\n",
    "\n",
    "    6. Determina las condiciones de victoria y derrota del juego, y salgan del bucle cuando se cumplan estas condiciones. Victoria = completar palabra, Derrota = completar ahorcado\n",
    "\n",
    "\n",
    "    +-----|\n",
    "    o     |\n",
    "   /\\     |"
   ]
  },
  {
   "cell_type": "code",
   "execution_count": null,
   "metadata": {},
   "outputs": [
    {
     "name": "stdout",
     "output_type": "stream",
     "text": [
      "gato\n"
     ]
    }
   ],
   "source": [
    "import random\n",
    "\n",
    "palabras_ahorcado = \"gato\", \"perro\", \"conejo\", \"hamster\", \"periquito\", \"cobaya\"\n",
    "\n",
    "palabra_secreta = random.choice(palabras_ahorcado)\n",
    "\n",
    "print(palabra_secreta)\n"
   ]
  },
  {
   "cell_type": "code",
   "execution_count": 38,
   "metadata": {},
   "outputs": [
    {
     "name": "stdout",
     "output_type": "stream",
     "text": [
      "[' _  _  _  _ ']\n"
     ]
    }
   ],
   "source": [
    "huecos = [\" _ \" * len(palabra_secreta)]\n",
    "\n",
    "print(huecos)"
   ]
  },
  {
   "cell_type": "code",
   "execution_count": null,
   "metadata": {},
   "outputs": [
    {
     "ename": "ValueError",
     "evalue": "3 is not in list",
     "output_type": "error",
     "traceback": [
      "\u001b[1;31m---------------------------------------------------------------------------\u001b[0m",
      "\u001b[1;31mValueError\u001b[0m                                Traceback (most recent call last)",
      "Cell \u001b[1;32mIn[42], line 5\u001b[0m\n\u001b[0;32m      3\u001b[0m \u001b[38;5;28;01mif\u001b[39;00m letra \u001b[38;5;129;01min\u001b[39;00m palabra_secreta:\n\u001b[0;32m      4\u001b[0m     posicion_palabra \u001b[38;5;241m=\u001b[39m palabra_secreta\u001b[38;5;241m.\u001b[39mindex(letra)\n\u001b[1;32m----> 5\u001b[0m     posicion_huecos \u001b[38;5;241m=\u001b[39m  huecos\u001b[38;5;241m.\u001b[39mindex(posicion_palabra)\n\u001b[0;32m      6\u001b[0m     posicion_palabra \u001b[38;5;241m==\u001b[39m posicion_huecos\n\u001b[0;32m      8\u001b[0m     palabra_formada \u001b[38;5;241m=\u001b[39m huecos(\u001b[38;5;124m\"\u001b[39m\u001b[38;5;124m_\u001b[39m\u001b[38;5;124m\"\u001b[39m, letra, posicion)\n",
      "\u001b[1;31mValueError\u001b[0m: 3 is not in list"
     ]
    }
   ],
   "source": [
    "#ejercicio empezado con Marina\n",
    "letra = \"o\"\n",
    "\n",
    "if letra in palabra_secreta:\n",
    "    posicion_palabra = palabra_secreta.index(letra)\n",
    "    posicion_huecos =  huecos.index(posicion_palabra)\n",
    "    posicion_palabra == posicion_huecos\n",
    "\n",
    "    palabra_formada = huecos(\"_\", letra, posicion)\n",
    "print(palabra_formada)"
   ]
  },
  {
   "cell_type": "code",
   "execution_count": 44,
   "metadata": {},
   "outputs": [
    {
     "name": "stdout",
     "output_type": "stream",
     "text": [
      "g _ _ _\n"
     ]
    }
   ],
   "source": [
    "def actualizar_huecos(palabra, huecos, letra):\n",
    "    for i in range(len(palabra)):\n",
    "        if palabra[i] == letra:  # Si la letra coincide con la palabra\n",
    "            huecos[i] = letra  # Reemplaza el guion bajo por la letra\n",
    "\n",
    "# Definir la palabra y los huecos\n",
    "palabra = \"gato\"\n",
    "huecos = [\"_\"] * len(palabra)  # Representamos los huecos como una lista de \"_\"\n",
    "\n",
    "# Pedir la letra al usuario\n",
    "letra = input(\"Ingresa una letra: \").lower()\n",
    "\n",
    "# Actualizar los huecos\n",
    "actualizar_huecos(palabra, huecos, letra)\n",
    "\n",
    "# Mostrar resultado\n",
    "print(\" \".join(huecos))"
   ]
  },
  {
   "cell_type": "code",
   "execution_count": 43,
   "metadata": {},
   "outputs": [
    {
     "name": "stdout",
     "output_type": "stream",
     "text": [
      "Resultado: _ _ t _\n"
     ]
    }
   ],
   "source": [
    "def actualizar_huecos(palabra, huecos, letra):\n",
    "    nueva_lista = list(huecos)  # Convertimos los huecos en una lista\n",
    "    for i, char in enumerate(palabra):\n",
    "        if char == letra:  # Si la letra está en la palabra en esa posición\n",
    "            nueva_lista[i] = letra  # Reemplazamos el hueco por la letra\n",
    "    return \"\".join(nueva_lista)  # Convertimos la lista en string\n",
    "\n",
    "# Definir la palabra y los huecos\n",
    "palabra = \"gato\"\n",
    "huecos = \"_\" * len(palabra)  # \"_ _ _ _\"\n",
    "\n",
    "# Pedir la letra al usuario\n",
    "letra = input(\"Ingresa una letra: \").lower()\n",
    "\n",
    "# Actualizar los huecos con la letra ingresada\n",
    "huecos = actualizar_huecos(palabra, huecos, letra)\n",
    "\n",
    "print(\"Resultado:\", \" \".join(huecos))"
   ]
  }
 ],
 "metadata": {
  "kernelspec": {
   "display_name": "base",
   "language": "python",
   "name": "python3"
  },
  "language_info": {
   "codemirror_mode": {
    "name": "ipython",
    "version": 3
   },
   "file_extension": ".py",
   "mimetype": "text/x-python",
   "name": "python",
   "nbconvert_exporter": "python",
   "pygments_lexer": "ipython3",
   "version": "3.12.7"
  }
 },
 "nbformat": 4,
 "nbformat_minor": 2
}

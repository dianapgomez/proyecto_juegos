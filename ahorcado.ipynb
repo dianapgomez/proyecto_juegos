{
 "cells": [
  {
   "cell_type": "markdown",
   "metadata": {},
   "source": [
    "# AHORCADO"
   ]
  },
  {
   "cell_type": "markdown",
   "metadata": {},
   "source": [
    "- Reglas del juego del \"Ahorcado\":\n",
    "\n",
    "    - Un jugador elige una palabra secreta y dibuja un espacio para cada letra de la palabra. → input palabra\n",
    "\n",
    "    - El otro jugador intenta adivinar letras para completar la palabra. → input letras\n",
    "\n",
    "    - Si el jugador adivinador adivina una letra correctamente, se revela en su lugar correspondiente. → dentro un if input letra in input palabra  print index. bucle for que itere por todas las letras y imprima la letra en su posición correspondiente\n",
    "\n",
    "    - Si el jugador adivinador adivina incorrectamente, se dibuja una parte del cuerpo en la horca. else num aciertos = 6 = cabeza. numero de aciertos = 5\n",
    "\n",
    "    - El objetivo del jugador adivinador es adivinar la palabra antes de que se dibuje el dibujo completo en la horca.\n",
    "\n",
    "\n",
    "- Pistas para las alumnas:\n",
    "\n",
    "    1. Empieza por seleccionar una palabra secreta para que el jugador adivinador intente adivinar. Puedes crear una lista de palabras. random de lista de palabras\n",
    "\n",
    "    2. Inicializa el tablero de juego con guiones bajos (\"_\") para representar las letras no adivinadas. len palabra _ _ _ _ _ \n",
    "\n",
    "    3. Utiliza un bucle `while` para permitir que el jugador adivinador haga múltiples intentos hasta que adivine la palabra o se agoten los intentos. en vez de intentos es la figura del ahorcado\n",
    "\n",
    "    4. Verifica si la letra adivinada por el jugador está en la palabra secreta y actualicen el tablero en consecuencia.\n",
    "\n",
    "    5. Lleva un seguimiento de las letras adivinadas y los intentos fallidos.[Letras que no están en la palabra: ]\n",
    "\n",
    "    6. Determina las condiciones de victoria y derrota del juego, y salgan del bucle cuando se cumplan estas condiciones. Victoria = completar palabra, Derrota = completar ahorcado\n",
    "\n",
    "\n",
    "    +-----|\n",
    "    o     |\n",
    "   /\\     |"
   ]
  },
  {
   "cell_type": "code",
   "execution_count": 2,
   "metadata": {},
   "outputs": [
    {
     "name": "stdout",
     "output_type": "stream",
     "text": [
      "***JUEGO DEL AHORCADO***\n",
      "Este es el juego del ahorcado. Tienes que adivinar la palabra secreta antes de que el ahorcado se complete. Te damos una PISTA: Todas las palabras secretas son animales de compañía\n"
     ]
    }
   ],
   "source": [
    "print(\"***JUEGO DEL AHORCADO***\")\n",
    "print(\"Este es el juego del ahorcado. Tienes que adivinar la palabra secreta antes de que el ahorcado se complete. Te damos una PISTA: Todas las palabras secretas son animales de compañía\")"
   ]
  },
  {
   "cell_type": "code",
   "execution_count": 3,
   "metadata": {},
   "outputs": [
    {
     "name": "stdout",
     "output_type": "stream",
     "text": [
      "cobaya\n"
     ]
    }
   ],
   "source": [
    "import random\n",
    "\n",
    "palabras_ahorcado = \"gato\", \"perro\", \"conejo\", \"hamster\", \"periquito\", \"cobaya\"\n",
    "\n",
    "palabra_secreta = random.choice(palabras_ahorcado)\n",
    "\n",
    "print(palabra_secreta)\n"
   ]
  },
  {
   "cell_type": "code",
   "execution_count": 4,
   "metadata": {},
   "outputs": [
    {
     "name": "stdout",
     "output_type": "stream",
     "text": [
      "['_', '_', '_', '_', '_', '_']\n"
     ]
    }
   ],
   "source": [
    "huecos = [\"_\"] * len(palabra_secreta)\n",
    "\n",
    "print(huecos)"
   ]
  },
  {
   "cell_type": "code",
   "execution_count": 5,
   "metadata": {},
   "outputs": [],
   "source": [
    "letra = input(\"Ingresa una letra: \").lower()"
   ]
  },
  {
   "cell_type": "code",
   "execution_count": 6,
   "metadata": {},
   "outputs": [],
   "source": [
    "if letra in palabra_secreta:\n",
    "    pass"
   ]
  },
  {
   "cell_type": "code",
   "execution_count": 7,
   "metadata": {},
   "outputs": [
    {
     "name": "stdout",
     "output_type": "stream",
     "text": [
      "_ _ _ _ _ _\n"
     ]
    }
   ],
   "source": [
    "\n",
    "\n",
    "def actualizar_huecos(palabra_secre, huecos, letra):\n",
    "    for i in range(len(palabra_secre)):\n",
    "        if palabra_secre[i] == letra:  \n",
    "            huecos[i] = letra  \n",
    "\n",
    "\n",
    "actualizar_huecos(palabra_secreta, huecos, letra)\n",
    "\n",
    "print(\" \".join(huecos))"
   ]
  },
  {
   "cell_type": "code",
   "execution_count": null,
   "metadata": {},
   "outputs": [],
   "source": [
    "contador_errores = 0"
   ]
  },
  {
   "cell_type": "code",
   "execution_count": 9,
   "metadata": {},
   "outputs": [
    {
     "name": "stdout",
     "output_type": "stream",
     "text": [
      "\n",
      "-+------\n",
      " 0     |\n",
      "/|\\    |\n",
      " |     |\n",
      "/ \\    |\n",
      " ______|\n"
     ]
    },
    {
     "name": "stderr",
     "output_type": "stream",
     "text": [
      "<>:1: SyntaxWarning: invalid escape sequence '\\ '\n",
      "<>:1: SyntaxWarning: invalid escape sequence '\\ '\n",
      "<>:1: SyntaxWarning: invalid escape sequence '\\ '\n",
      "<>:1: SyntaxWarning: invalid escape sequence '\\ '\n",
      "C:\\Users\\panac\\AppData\\Local\\Temp\\ipykernel_14280\\1569130225.py:1: SyntaxWarning: invalid escape sequence '\\ '\n",
      "  horca_6 = \"\\n-+------\" \"\\n 0     |\" \"\\n/|\\    |\" \"\\n |     |\" \"\\n/ \\    |\" \"\\n ______|\"\n",
      "C:\\Users\\panac\\AppData\\Local\\Temp\\ipykernel_14280\\1569130225.py:1: SyntaxWarning: invalid escape sequence '\\ '\n",
      "  horca_6 = \"\\n-+------\" \"\\n 0     |\" \"\\n/|\\    |\" \"\\n |     |\" \"\\n/ \\    |\" \"\\n ______|\"\n"
     ]
    }
   ],
   "source": [
    "horca_6 = \"\\n-+------\" \"\\n 0     |\" \"\\n/|\\    |\" \"\\n |     |\" \"\\n/ \\    |\" \"\\n ______|\"\n",
    "print(horca_6)"
   ]
  },
  {
   "cell_type": "code",
   "execution_count": 10,
   "metadata": {},
   "outputs": [
    {
     "name": "stdout",
     "output_type": "stream",
     "text": [
      "\n",
      "-+------\n",
      " 0     |\n",
      "/|\\    |\n",
      " |     |\n",
      "/      |\n",
      " ______|\n"
     ]
    },
    {
     "name": "stderr",
     "output_type": "stream",
     "text": [
      "<>:1: SyntaxWarning: invalid escape sequence '\\ '\n",
      "<>:1: SyntaxWarning: invalid escape sequence '\\ '\n",
      "C:\\Users\\panac\\AppData\\Local\\Temp\\ipykernel_14280\\3680805545.py:1: SyntaxWarning: invalid escape sequence '\\ '\n",
      "  horca_5 = \"\\n-+------\" \"\\n 0     |\" \"\\n/|\\    |\" \"\\n |     |\" \"\\n/      |\" \"\\n ______|\"\n"
     ]
    }
   ],
   "source": [
    "horca_5 = \"\\n-+------\" \"\\n 0     |\" \"\\n/|\\    |\" \"\\n |     |\" \"\\n/      |\" \"\\n ______|\"\n",
    "\n",
    "print(horca_5)"
   ]
  },
  {
   "cell_type": "code",
   "execution_count": 22,
   "metadata": {},
   "outputs": [
    {
     "name": "stdout",
     "output_type": "stream",
     "text": [
      "\n",
      "-+------\n",
      " 0     |\n",
      "/|\\    |\n",
      " |     |\n",
      "       |\n",
      " ______|\n"
     ]
    }
   ],
   "source": [
    "horca_4 = \"\\n-+------\" \"\\n 0     |\" \"\\n/|\\\\    |\" \"\\n |     |\" \"\\n       |\" \"\\n ______|\"\n",
    "\n",
    "print(horca_4)"
   ]
  },
  {
   "cell_type": "code",
   "execution_count": 12,
   "metadata": {},
   "outputs": [
    {
     "name": "stdout",
     "output_type": "stream",
     "text": [
      "\n",
      "-+------\n",
      " 0     |\n",
      "/|     |\n",
      " |     |\n",
      "       |\n",
      " ______|\n"
     ]
    }
   ],
   "source": [
    "horca_3 = \"\\n-+------\" \"\\n 0     |\" \"\\n/|     |\" \"\\n |     |\" \"\\n       |\" \"\\n ______|\"\n",
    "\n",
    "print(horca_3)"
   ]
  },
  {
   "cell_type": "code",
   "execution_count": 13,
   "metadata": {},
   "outputs": [
    {
     "name": "stdout",
     "output_type": "stream",
     "text": [
      "\n",
      "-+------\n",
      " 0     |\n",
      " |     |\n",
      " |     |\n",
      "       |\n",
      " ______|\n"
     ]
    }
   ],
   "source": [
    "horca_2 = \"\\n-+------\" \"\\n 0     |\" \"\\n |     |\" \"\\n |     |\" \"\\n       |\" \"\\n ______|\"\n",
    "\n",
    "print(horca_2)"
   ]
  },
  {
   "cell_type": "code",
   "execution_count": 14,
   "metadata": {},
   "outputs": [
    {
     "name": "stdout",
     "output_type": "stream",
     "text": [
      "\n",
      "-+------\n",
      " 0     |\n",
      "       |\n",
      "       |\n",
      "       |\n",
      " ______|\n"
     ]
    }
   ],
   "source": [
    "horca_1 = \"\\n-+------\" \"\\n 0     |\" \"\\n       |\" \"\\n       |\" \"\\n       |\" \"\\n ______|\"\n",
    "\n",
    "print(horca_1)"
   ]
  },
  {
   "cell_type": "code",
   "execution_count": 15,
   "metadata": {},
   "outputs": [
    {
     "name": "stdout",
     "output_type": "stream",
     "text": [
      "\n",
      "-+------\n",
      "       |\n",
      "       |\n",
      "       |\n",
      "       |\n",
      " ______|\n"
     ]
    }
   ],
   "source": [
    "horca_0 = \"\\n-+------\" \"\\n       |\" \"\\n       |\" \"\\n       |\" \"\\n       |\" \"\\n ______|\"\n",
    "\n",
    "print(horca_0)"
   ]
  },
  {
   "cell_type": "code",
   "execution_count": 16,
   "metadata": {},
   "outputs": [],
   "source": [
    "horcas = [horca_0, horca_1, horca_2, horca_3, horca_4, horca_5, horca_6]"
   ]
  },
  {
   "cell_type": "code",
   "execution_count": 17,
   "metadata": {},
   "outputs": [],
   "source": [
    "if letra not in palabra_secreta:\n",
    "    contador_errores +=1\n"
   ]
  },
  {
   "cell_type": "code",
   "execution_count": 18,
   "metadata": {},
   "outputs": [
    {
     "name": "stdout",
     "output_type": "stream",
     "text": [
      "\n",
      "-+------\n",
      " 0     |\n",
      "/|\\    |\n",
      " |     |\n",
      "       |\n",
      " ______|\n"
     ]
    }
   ],
   "source": [
    "print(horcas[contador_errores])"
   ]
  }
 ],
 "metadata": {
  "kernelspec": {
   "display_name": "base",
   "language": "python",
   "name": "python3"
  },
  "language_info": {
   "codemirror_mode": {
    "name": "ipython",
    "version": 3
   },
   "file_extension": ".py",
   "mimetype": "text/x-python",
   "name": "python",
   "nbconvert_exporter": "python",
   "pygments_lexer": "ipython3",
   "version": "3.12.7"
  }
 },
 "nbformat": 4,
 "nbformat_minor": 2
}

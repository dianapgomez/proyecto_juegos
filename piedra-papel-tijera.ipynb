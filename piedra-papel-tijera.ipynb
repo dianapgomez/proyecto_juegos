{
 "cells": [
  {
   "cell_type": "markdown",
   "metadata": {},
   "source": [
    "# Piedra, papel o tijera"
   ]
  },
  {
   "cell_type": "markdown",
   "metadata": {},
   "source": [
    "\n",
    "![image](./image.png)\n"
   ]
  },
  {
   "cell_type": "markdown",
   "metadata": {},
   "source": [
    "En primer lugar, se definen las variables `opciones`y `nombre_jugador`. También se importa la librería random."
   ]
  },
  {
   "cell_type": "code",
   "execution_count": 4,
   "metadata": {},
   "outputs": [],
   "source": [
    "import random\n",
    "\n",
    "opciones = [\"piedra\", \"tijera\", \"papel\"]\n",
    "\n",
    "nombre_jugador = str(input(\"Introduce tu nombre:\").title())"
   ]
  },
  {
   "cell_type": "markdown",
   "metadata": {},
   "source": [
    "A continuación, se definen 2 funciones. \n",
    "\n",
    "- **`eleccion()`**: Esta función permite elegir entre piedra, papel o tijera. \n",
    "- **`juego_ppt()`**: Esta función contiene la lógica del juego y permite iniciarlo."
   ]
  },
  {
   "cell_type": "code",
   "execution_count": null,
   "metadata": {},
   "outputs": [],
   "source": [
    "def eleccion(jugador):\n",
    "\n",
    "    if jugador.lower() in opciones:\n",
    "        return jugador  \n",
    "    \n",
    "    else: \n",
    "        return eleccion(input(\"Elige una entrada válida: piedra, papel o tijera\"))\n",
    "    \n",
    "def juego_ppt():\n",
    "    \n",
    "    victorias_1 = 0\n",
    "    victorias_2 = 0\n",
    "\n",
    "    while victorias_1 < 3 or victorias_2 < 3:\n",
    "    \n",
    "        jugador = eleccion(input(\"Elige piedra, papel o tijera\"))\n",
    "\n",
    "        machine = eleccion(random.choice(opciones))\n",
    "    \n",
    "        if jugador == machine:\n",
    "            print(f\"➡️ {nombre_jugador} eligió {jugador}\\n➡️ La máquina eligió {machine}\\n 🟰Hay un empate\\n\")\n",
    "\n",
    "        elif jugador == \"piedra\" and machine == \"tijera\": \n",
    "            victorias_1 += 1\n",
    "            print(f\"➡️ {nombre_jugador} eligió {jugador}\\n➡️ La máquina eligió {machine}\\n🥳 Gana {nombre_jugador}\\n\")\n",
    "        \n",
    "        elif jugador  == \"tijera\" and machine == \"papel\": \n",
    "            victorias_1 += 1\n",
    "            print(f\"➡️ {nombre_jugador} eligió {jugador}\\n➡️ La máquina eligió {machine}\\n🥳 Gana {nombre_jugador}\\n\")\n",
    "        \n",
    "        elif jugador  == \"papel\" and machine == \"piedra\": \n",
    "            victorias_1 += 1\n",
    "            print(f\"➡️ {nombre_jugador} eligió {jugador}\\n➡️ La máquina eligió {machine}\\n🥳 Gana {nombre_jugador}\\n\")\n",
    "        \n",
    "        else: \n",
    "            victorias_2 += 1 \n",
    "            print(f\"➡️ {nombre_jugador} eligió {jugador}\\n➡️ La máquina eligió {machine}\\n👾 Gana la máquina\\n\")\n",
    "        \n",
    "        if victorias_2 == 2 or victorias_1 == 2:\n",
    "            break\n",
    "    \n",
    "    if victorias_1 > victorias_2:\n",
    "        print(f\"El mejor de 3 ha sido {nombre_jugador} 🥳\\n\")\n",
    "    else:\n",
    "        print(f\"El mejor de 3 ha sido la máquina. {nombre_jugador} ha perdido 😔\\n\")"
   ]
  },
  {
   "cell_type": "markdown",
   "metadata": {},
   "source": [
    "El juego funciona de la siguiente manera:\n",
    "\n",
    "1. Se inicia la partida llamando a la funcion `juego_ppt()`\n",
    "\n",
    "2. La partida termina cuando uno de los dos jugadores, en este caso el jugador o la máquina, lleva 2 victorias\n",
    "\n",
    "3. Se pregunta si el jugador quiere seguir jugando. Si es que sí, se vuelve a iniciar una partida. Si es que no, se para el juego. En caso de que el jugador introduzca algo que no sea \"si/no\", se vuelve a preguntar si el jugador quiere seguir jugando."
   ]
  },
  {
   "cell_type": "code",
   "execution_count": 6,
   "metadata": {},
   "outputs": [
    {
     "name": "stdout",
     "output_type": "stream",
     "text": [
      "Comienza la partida 🕹️\n",
      "\n",
      "Diana, buena suerte🍀\n",
      "\n",
      "➡️ Diana eligió piedra\n",
      "➡️ La máquina eligió tijera\n",
      "🥳 Gana Diana\n",
      "\n",
      "➡️ Diana eligió papel\n",
      "➡️ La máquina eligió papel\n",
      " 🟰Hay un empate\n",
      "\n",
      "➡️ Diana eligió tijera\n",
      "➡️ La máquina eligió tijera\n",
      " 🟰Hay un empate\n",
      "\n",
      "➡️ Diana eligió papel\n",
      "➡️ La máquina eligió tijera\n",
      "👾 Gana la máquina\n",
      "\n",
      "➡️ Diana eligió piedra\n",
      "➡️ La máquina eligió tijera\n",
      "🥳 Gana Diana\n",
      "\n",
      "El mejor de 3 ha sido Diana 🥳\n",
      "\n"
     ]
    }
   ],
   "source": [
    "print(f\"Comienza la partida 🕹️\\n\")\n",
    "\n",
    "print(f\"{nombre_jugador}, buena suerte🍀\\n\")\n",
    "\n",
    "juego_ppt()\n",
    "\n",
    "while True:\n",
    "\n",
    "    partida = input(f\"{nombre_jugador}, ¿quieres volver a jugar? Si/No\") \n",
    "\n",
    "    if partida.lower() == \"si\":\n",
    "        juego_ppt()\n",
    "    elif partida.lower() == \"no\":\n",
    "        break\n",
    "    else: \n",
    "        print(f\"Introduce una opción válida\")\n",
    "        continue\n",
    "    \n",
    "    "
   ]
  }
 ],
 "metadata": {
  "kernelspec": {
   "display_name": "base",
   "language": "python",
   "name": "python3"
  },
  "language_info": {
   "codemirror_mode": {
    "name": "ipython",
    "version": 3
   },
   "file_extension": ".py",
   "mimetype": "text/x-python",
   "name": "python",
   "nbconvert_exporter": "python",
   "pygments_lexer": "ipython3",
   "version": "3.12.7"
  }
 },
 "nbformat": 4,
 "nbformat_minor": 2
}

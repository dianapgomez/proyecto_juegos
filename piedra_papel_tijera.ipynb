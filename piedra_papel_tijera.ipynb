{
 "cells": [
  {
   "cell_type": "markdown",
   "metadata": {},
   "source": [
    "# PIEDRA PAPEL TIJERA"
   ]
  },
  {
   "cell_type": "markdown",
   "metadata": {},
   "source": [
    "todos los elementos tienen una forma de ganar y una forma de empatar\n",
    "\n",
    "3 problemas:\n",
    "- cómo obtenemos el dato\n",
    ". cómo se resuelve\n",
    "- cómo se puntúa\n",
    "\n",
    "BO3\n",
    "\n",
    "piedra = a\n",
    "tijera = b\n",
    "papel = c\n",
    "\n",
    "\n",
    "gana jugador \n",
    "gana maquina\n",
    "empatan\n",
    "\n",
    "-----------------\n",
    "\n",
    "jugador 1  == a\n",
    "maquina == b\n",
    "\n",
    "output = gana jugador 1 → 1 punto\n",
    "\n",
    "\n"
   ]
  },
  {
   "cell_type": "code",
   "execution_count": null,
   "metadata": {},
   "outputs": [
    {
     "ename": "SyntaxError",
     "evalue": "invalid syntax (1338733693.py, line 9)",
     "output_type": "error",
     "traceback": [
      "\u001b[1;36m  Cell \u001b[1;32mIn[1], line 9\u001b[1;36m\u001b[0m\n\u001b[1;33m    if jugador ==\u001b[0m\n\u001b[1;37m                  ^\u001b[0m\n\u001b[1;31mSyntaxError\u001b[0m\u001b[1;31m:\u001b[0m invalid syntax\n"
     ]
    }
   ],
   "source": [
    "import random\n",
    "opciones = [\"piedra\", \"papel\", \"tijera\"]\n",
    "\n",
    "jugador = opciones[\"0\"]\n",
    "\n",
    "maquina = opciones[random.randint(3)]\n",
    "\n",
    "gana_piedra = \"piedra\" > \"tijera\" or \"tijera\" < \"piedra\"\n",
    "gana_pa\n",
    "\n",
    "for elementos in opciones:\n",
    "    if jugador == "
   ]
  },
  {
   "cell_type": "code",
   "execution_count": null,
   "metadata": {},
   "outputs": [
    {
     "data": {
      "text/plain": [
       "True"
      ]
     },
     "execution_count": 7,
     "metadata": {},
     "output_type": "execute_result"
    }
   ],
   "source": [
    "gana_piedra = \"piedra\" > \"tijera\" or \"tijera\" < \"piedra\"\n",
    "\n",
    "gana_piedra\n"
   ]
  },
  {
   "cell_type": "code",
   "execution_count": null,
   "metadata": {},
   "outputs": [],
   "source": [
    "#elección de elementos\n",
    "elementos = \"piedra\", \"papel\", \"tijera\"\n",
    "jugador = [\"piedra\"]\n",
    "maquina = [\"tijera\"]\n"
   ]
  },
  {
   "cell_type": "code",
   "execution_count": null,
   "metadata": {},
   "outputs": [],
   "source": [
    "#combinaciones ganadoras y empate\n",
    "gana_piedra = \"piedra\" > \"tijera\" or \"tijera\" < \"piedra\"\n",
    "\n",
    "if J1 == J2:\n",
    "    empate\n",
    "else:\n",
    "    if J1 gana al J2\n",
    " #definir en qué condiciones gana 1\n",
    "    else J2 gana J1\n",
    "# definir en qué condiciones gana 1\n",
    "\n",
    "if :\n",
    "    print()"
   ]
  },
  {
   "cell_type": "code",
   "execution_count": null,
   "metadata": {},
   "outputs": [],
   "source": [
    "elementos = {\"piedra\": 1,\n",
    "             \"tijera\": 2,\n",
    "             \"papel\": 3}\n",
    "\n",
    "\n",
    "if J1 == J2:\n",
    "    empate\n",
    "else:\n",
    "    if J1 == piedra and j2 == tijera\n",
    "\n",
    "    if j1 == papel and j2 == tijera\n",
    "        print \n",
    "\n",
    "    else J2 gana J1"
   ]
  },
  {
   "cell_type": "code",
   "execution_count": null,
   "metadata": {},
   "outputs": [],
   "source": [
    "#puntos de jugador\n",
    "\n",
    "puntos_jugador = 0\n",
    "puntos_maquina = 0\n"
   ]
  },
  {
   "cell_type": "code",
   "execution_count": null,
   "metadata": {},
   "outputs": [],
   "source": [
    "#gana jugador 1 if input es diferente de items\n",
    "if J1 == J2:\n",
    "    empate\n",
    "else:\n",
    "    if J1 gana al J2\n",
    "\n",
    "    else J2 gana J1"
   ]
  },
  {
   "cell_type": "code",
   "execution_count": 10,
   "metadata": {},
   "outputs": [
    {
     "name": "stdout",
     "output_type": "stream",
     "text": [
      "gana jogador 2\n"
     ]
    }
   ],
   "source": [
    "J1= input('Jogador 1: elige P/pedra, T/Tijera, P/Papel')\n",
    "J2= input('Jogador 2: elige P/pedra, T/Tijera, P/Papel')\n",
    "if J1 == J2:\n",
    "    print('Empate')\n",
    "elif J1 == 'Pedra' and J2 == 'Tijera':\n",
    "    print('gana jogador 1')\n",
    "elif J1  == 'Tijera' and J2 == 'Papel':\n",
    "    print('gana jogador 1')\n",
    "elif J1  == 'Papel' and J2== 'Pedra':\n",
    "    print('gana jogador 1')\n",
    "else:  print('gana jogador 2')"
   ]
  },
  {
   "cell_type": "code",
   "execution_count": 13,
   "metadata": {},
   "outputs": [
    {
     "name": "stdout",
     "output_type": "stream",
     "text": [
      "El jugador 1 eligió piedra\n",
      "El jugador 2 eligió piedra\n",
      " Hay un empate\n",
      "\n",
      "El jugador 1 eligió tijera\n",
      "El jugador 2 eligió papel\n",
      " Gana el jugador 1\n",
      "\n",
      "El jugador 1 eligió papel\n",
      "El jugador 2 eligió tijera\n",
      " Gana el jugador 2\n",
      "\n",
      "El jugador 1 eligió tijera\n",
      "El jugador 2 eligió tijera\n",
      " Hay un empate\n",
      "\n",
      "El jugador 1 eligió tijera\n",
      "El jugador 2 eligió piedra\n",
      " Gana el jugador 2\n",
      "\n",
      "El mejor de 3 ha sido el jugador 2 🥳\n",
      "\n"
     ]
    }
   ],
   "source": [
    "opciones = {1: \"piedra\", 2:\"tijera\", 3: \"papel\"}\n",
    "\n",
    "# Gana el mejor de 3\n",
    "victorias_1 = 1\n",
    "victorias_2 = 1\n",
    "\n",
    "while victorias_1 <= 2 or victorias_2 <= 2:\n",
    "    \n",
    "    jugador_1= int(input('Jogador 1: elige 1: piedra, 2: tijera, 3: papel'))\n",
    "    jugador_2= int(input('Jogador 2: elige 1: piedra, 2: tijera, 3: papel'))\n",
    "    \n",
    "    if jugador_1 == jugador_2:\n",
    "        print(f\"El jugador 1 eligió {opciones[jugador_1]}\\nEl jugador 2 eligió {opciones[jugador_2]}\\n Hay un empate\\n\")\n",
    "\n",
    "    elif jugador_1 == 1 and jugador_2 == 2: \n",
    "        victorias_1 += 1\n",
    "        print(f\"El jugador 1 eligió {opciones[jugador_1]}\\nEl jugador 2 eligió {opciones[jugador_2]}\\n Gana el jugador 1\\n\")\n",
    "        \n",
    "    elif jugador_1  == 2 and jugador_2 == 3: \n",
    "        victorias_1 += 1\n",
    "        print(f\"El jugador 1 eligió {opciones[jugador_1]}\\nEl jugador 2 eligió {opciones[jugador_2]}\\n Gana el jugador 1\\n\")\n",
    "        \n",
    "    elif jugador_1  == 3 and jugador_2 == 1: \n",
    "        victorias_1 += 1\n",
    "        print(f\"El jugador 1 eligió {opciones[jugador_1]}\\nEl jugador 2 eligió {opciones[jugador_2]}\\n Gana el jugador 1\\n\")\n",
    "        \n",
    "    else: \n",
    "        victorias_2 += 1 \n",
    "        print(f\"El jugador 1 eligió {opciones[jugador_1]}\\nEl jugador 2 eligió {opciones[jugador_2]}\\n Gana el jugador 2\\n\")\n",
    "        \n",
    "    if victorias_2 == 3 or victorias_1 == 3:\n",
    "        break\n",
    "    \n",
    "if victorias_1 > victorias_2:\n",
    "    print(f\"El mejor de 3 ha sido el jugador 1 🥳\\n\")\n",
    "else:\n",
    "    print(f\"El mejor de 3 ha sido el jugador 2 🥳\\n\")"
   ]
  },
  {
   "cell_type": "markdown",
   "metadata": {},
   "source": [
    "## Formas de mejorar el juego \n",
    "\n",
    "    - Añadir random para que la máquina elija una opción\n",
    "    - Añadir exceptiones \n",
    "    - Añadir imágenes\n",
    "    - Hacerlo más corto\n",
    "    - Añadir una explicación al iniciar el juego\n",
    "    - Opción de empezar de nuevo a jugar (haciendo un función recursiva)\n",
    "    - Input con nombre de jugador\n",
    "    - Elegir si jugar contra otro jugador o la máquina"
   ]
  }
 ],
 "metadata": {
  "kernelspec": {
   "display_name": "base",
   "language": "python",
   "name": "python3"
  },
  "language_info": {
   "codemirror_mode": {
    "name": "ipython",
    "version": 3
   },
   "file_extension": ".py",
   "mimetype": "text/x-python",
   "name": "python",
   "nbconvert_exporter": "python",
   "pygments_lexer": "ipython3",
   "version": "3.12.7"
  }
 },
 "nbformat": 4,
 "nbformat_minor": 2
}

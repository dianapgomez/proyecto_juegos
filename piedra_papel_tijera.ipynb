{
 "cells": [
  {
   "cell_type": "markdown",
   "metadata": {},
   "source": [
    "# PIEDRA PAPEL TIJERA"
   ]
  },
  {
   "cell_type": "markdown",
   "metadata": {},
   "source": [
    "todos los elementos tienen una forma de ganar y una forma de empatar\n",
    "\n",
    "3 problemas:\n",
    "- cómo obtenemos el dato\n",
    ". cómo se resuelve\n",
    "- cómo se puntúa\n",
    "\n",
    "BO3\n",
    "\n",
    "piedra = a\n",
    "tijera = b\n",
    "papel = c\n",
    "\n",
    "\n",
    "gana jugador \n",
    "gana maquina\n",
    "empatan\n",
    "\n",
    "-----------------\n",
    "\n",
    "jugador 1  == a\n",
    "maquina == b\n",
    "\n",
    "output = gana jugador 1 → 1 punto\n",
    "\n",
    "\n"
   ]
  },
  {
   "cell_type": "code",
   "execution_count": null,
   "metadata": {},
   "outputs": [
    {
     "ename": "SyntaxError",
     "evalue": "invalid syntax (1338733693.py, line 9)",
     "output_type": "error",
     "traceback": [
      "\u001b[1;36m  Cell \u001b[1;32mIn[1], line 9\u001b[1;36m\u001b[0m\n\u001b[1;33m    if jugador ==\u001b[0m\n\u001b[1;37m                  ^\u001b[0m\n\u001b[1;31mSyntaxError\u001b[0m\u001b[1;31m:\u001b[0m invalid syntax\n"
     ]
    }
   ],
   "source": [
    "import random\n",
    "opciones = [\"piedra\", \"papel\", \"tijera\"]\n",
    "\n",
    "jugador = opciones[\"0\"]\n",
    "\n",
    "maquina = opciones[random.randint(3)]\n",
    "\n",
    "gana_piedra = \"piedra\" > \"tijera\" or \"tijera\" < \"piedra\"\n",
    "gana_pa\n",
    "\n",
    "for elementos in opciones:\n",
    "    if jugador == "
   ]
  },
  {
   "cell_type": "code",
   "execution_count": null,
   "metadata": {},
   "outputs": [
    {
     "data": {
      "text/plain": [
       "True"
      ]
     },
     "execution_count": 7,
     "metadata": {},
     "output_type": "execute_result"
    }
   ],
   "source": [
    "gana_piedra = \"piedra\" > \"tijera\" or \"tijera\" < \"piedra\"\n",
    "\n",
    "gana_piedra\n"
   ]
  },
  {
   "cell_type": "code",
   "execution_count": null,
   "metadata": {},
   "outputs": [],
   "source": [
    "#elección de elementos\n",
    "elementos = \"piedra\", \"papel\", \"tijera\"\n",
    "jugador = [\"piedra\"]\n",
    "maquina = [\"tijera\"]\n"
   ]
  },
  {
   "cell_type": "code",
   "execution_count": null,
   "metadata": {},
   "outputs": [],
   "source": [
    "#combinaciones ganadoras y empate\n",
    "gana_piedra = \"piedra\" > \"tijera\" or \"tijera\" < \"piedra\"\n",
    "\n",
    "if J1 == J2:\n",
    "    empate\n",
    "else:\n",
    "    if J1 gana al J2\n",
    " #definir en qué condiciones gana 1\n",
    "    else J2 gana J1\n",
    "# definir en qué condiciones gana 1\n",
    "\n",
    "if :\n",
    "    print()"
   ]
  },
  {
   "cell_type": "code",
   "execution_count": null,
   "metadata": {},
   "outputs": [],
   "source": [
    "elementos = {\"piedra\": 1,\n",
    "             \"tijera\": 2,\n",
    "             \"papel\": 3}\n",
    "\n",
    "\n",
    "if J1 == J2:\n",
    "    empate\n",
    "else:\n",
    "    if J1 == piedra and j2 == tijera\n",
    "\n",
    "    if j1 == papel and j2 == tijera\n",
    "        print \n",
    "\n",
    "    else J2 gana J1"
   ]
  },
  {
   "cell_type": "code",
   "execution_count": null,
   "metadata": {},
   "outputs": [],
   "source": [
    "#puntos de jugador\n",
    "\n",
    "puntos_jugador = 0\n",
    "puntos_maquina = 0\n"
   ]
  },
  {
   "cell_type": "code",
   "execution_count": null,
   "metadata": {},
   "outputs": [],
   "source": [
    "#gana jugador 1 if input es diferente de items\n",
    "if J1 == J2:\n",
    "    empate\n",
    "else:\n",
    "    if J1 gana al J2\n",
    "\n",
    "    else J2 gana J1"
   ]
  },
  {
   "cell_type": "code",
   "execution_count": 10,
   "metadata": {},
   "outputs": [
    {
     "name": "stdout",
     "output_type": "stream",
     "text": [
      "gana jogador 2\n"
     ]
    }
   ],
   "source": [
    "J1= input('Jogador 1: elige P/pedra, T/Tijera, P/Papel')\n",
    "J2= input('Jogador 2: elige P/pedra, T/Tijera, P/Papel')\n",
    "if J1 == J2:\n",
    "    print('Empate')\n",
    "elif J1 == 'Pedra' and J2 == 'Tijera':\n",
    "    print('gana jogador 1')\n",
    "elif J1  == 'Tijera' and J2 == 'Papel':\n",
    "    print('gana jogador 1')\n",
    "elif J1  == 'Papel' and J2== 'Pedra':\n",
    "    print('gana jogador 1')\n",
    "else:  print('gana jogador 2')"
   ]
  },
  {
   "cell_type": "code",
   "execution_count": null,
   "metadata": {},
   "outputs": [
    {
     "ename": "ValueError",
     "evalue": "invalid literal for int() with base 10: ''",
     "output_type": "error",
     "traceback": [
      "\u001b[1;31m---------------------------------------------------------------------------\u001b[0m",
      "\u001b[1;31mValueError\u001b[0m                                Traceback (most recent call last)",
      "Cell \u001b[1;32mIn[3], line 9\u001b[0m\n\u001b[0;32m      5\u001b[0m victorias_2 \u001b[38;5;241m=\u001b[39m \u001b[38;5;241m1\u001b[39m\n\u001b[0;32m      7\u001b[0m \u001b[38;5;28;01mwhile\u001b[39;00m victorias_1 \u001b[38;5;241m<\u001b[39m\u001b[38;5;241m=\u001b[39m \u001b[38;5;241m2\u001b[39m \u001b[38;5;129;01mor\u001b[39;00m victorias_2 \u001b[38;5;241m<\u001b[39m\u001b[38;5;241m=\u001b[39m \u001b[38;5;241m2\u001b[39m:\n\u001b[1;32m----> 9\u001b[0m     jugador_1\u001b[38;5;241m=\u001b[39m \u001b[38;5;28mint\u001b[39m(\u001b[38;5;28minput\u001b[39m(\u001b[38;5;124m'\u001b[39m\u001b[38;5;124mJogador 1: elige 1: piedra, 2: tijera, 3: papel\u001b[39m\u001b[38;5;124m'\u001b[39m))\n\u001b[0;32m     10\u001b[0m     jugador_2\u001b[38;5;241m=\u001b[39m \u001b[38;5;28mint\u001b[39m(\u001b[38;5;28minput\u001b[39m(\u001b[38;5;124m'\u001b[39m\u001b[38;5;124mJogador 2: elige 1: piedra, 2: tijera, 3: papel\u001b[39m\u001b[38;5;124m'\u001b[39m))\n\u001b[0;32m     12\u001b[0m     \u001b[38;5;28;01mif\u001b[39;00m jugador_1 \u001b[38;5;241m==\u001b[39m jugador_2:\n",
      "\u001b[1;31mValueError\u001b[0m: invalid literal for int() with base 10: ''"
     ]
    }
   ],
   "source": [
    "opciones = {1: \"piedra\", 2:\"tijera\", 3: \"papel\"}\n",
    "\n",
    "# Gana el mejor de 3\n",
    "victorias_1 = 1\n",
    "victorias_2 = 1\n",
    "\n",
    "while victorias_1 <= 2 or victorias_2 <= 2:\n",
    "    \n",
    "    jugador_1= int(input('Jogador 1: elige 1: piedra, 2: tijera, 3: papel'))\n",
    "    jugador_2= int(input('Jogador 2: elige 1: piedra, 2: tijera, 3: papel'))\n",
    "    \n",
    "    if jugador_1 == jugador_2:\n",
    "        print(f\"El jugador 1 eligió {opciones[jugador_1]}\\nEl jugador 2 eligió {opciones[jugador_2]}\\n Hay un empate\\n\")\n",
    "\n",
    "    elif jugador_1 == 1 and jugador_2 == 2: \n",
    "        victorias_1 += 1\n",
    "        print(f\"El jugador 1 eligió {opciones[jugador_1]}\\nEl jugador 2 eligió {opciones[jugador_2]}\\n Gana el jugador 1\\n\")\n",
    "        \n",
    "    elif jugador_1  == 2 and jugador_2 == 3: \n",
    "        victorias_1 += 1\n",
    "        print(f\"El jugador 1 eligió {opciones[jugador_1]}\\nEl jugador 2 eligió {opciones[jugador_2]}\\n Gana el jugador 1\\n\")\n",
    "        \n",
    "    elif jugador_1  == 3 and jugador_2 == 1: \n",
    "        victorias_1 += 1\n",
    "        print(f\"El jugador 1 eligió {opciones[jugador_1]}\\nEl jugador 2 eligió {opciones[jugador_2]}\\n Gana el jugador 1\\n\")\n",
    "        \n",
    "    else: \n",
    "        victorias_2 += 1 \n",
    "        print(f\"El jugador 1 eligió {opciones[jugador_1]}\\nEl jugador 2 eligió {opciones[jugador_2]}\\n Gana el jugador 2\\n\")\n",
    "        \n",
    "    if victorias_2 == 3 or victorias_1 == 3:\n",
    "        break\n",
    "    \n",
    "if victorias_1 > victorias_2:\n",
    "    print(f\"El mejor de 3 ha sido el jugador 1 🥳\\n\")\n",
    "else:\n",
    "    print(f\"El mejor de 3 ha sido el jugador 2 🥳\\n\")"
   ]
  },
  {
   "cell_type": "markdown",
   "metadata": {},
   "source": [
    "## Formas de mejorar el juego \n",
    "\n",
    "- Añadir random para que la máquina elija una opción 🆗\n",
    "- Añadir exceptiones 🆗 \n",
    "- Añadir imágenes\n",
    "- Hacerlo más corto\n",
    "- Añadir una explicación al iniciar el juego\n",
    "- Opción de empezar de nuevo a jugar (haciendo un función recursiva)\n",
    "- Input con nombre de jugador 🆗\n",
    "\n",
    "### Extras \n",
    "\n",
    "- Elegir si jugar contra otro jugador o la máquina "
   ]
  },
  {
   "cell_type": "code",
   "execution_count": null,
   "metadata": {},
   "outputs": [
    {
     "name": "stdout",
     "output_type": "stream",
     "text": [
      "El jugador Marianela eligió piedra\n",
      "La máquina eligió papel\n",
      " Te ha ganado el ordenador\n",
      "\n",
      "El jugador Marianela eligió piedra\n",
      "La máquina eligió tijera\n",
      " Te ha ganado el ordenador\n",
      "\n",
      "El mejor de 3 ha sido la máquina. Marianela ha perdido 😔\n",
      "\n"
     ]
    }
   ],
   "source": [
    "import random\n",
    "\n",
    "opciones = [\"piedra\", \"tijera\", \"papel\"]\n",
    "\n",
    "def eleccion(jugador):\n",
    "\n",
    "    if jugador.lower() in opciones:\n",
    "        return jugador  # Debería empezar el juego\n",
    "    \n",
    "    else: \n",
    "        return eleccion(input(\"Elige una entrada válida: piedra, papel o tijera\"))\n",
    "            \n",
    "        \n",
    "# Gana el mejor de 3\n",
    "victorias_1 = 1\n",
    "victorias_2 = 1\n",
    "\n",
    "nombre_jugador = str(input(\"Introduce tu nombre:\").title())\n",
    "\n",
    "while victorias_1 <= 2 or victorias_2 <= 2:\n",
    "    \n",
    "    jugador = eleccion(input(\"Elige piedra, papel o tijera\"))\n",
    "\n",
    "    machine = eleccion(random.choice(opciones))\n",
    "    \n",
    "    if jugador == machine:\n",
    "        print(f\"{nombre_jugador} eligió {jugador}\\nLa máquina eligió {machine}\\n Hay un empate\\n\")\n",
    "\n",
    "    elif jugador == 1 and machine == 2: \n",
    "        victorias_1 += 1\n",
    "        print(f\"{nombre_jugador} eligió {jugador}\\nLa máquina eligió {machine}\\n Gana {nombre_jugador}\\n\")\n",
    "        \n",
    "    elif jugador  == 2 and machine == 3: \n",
    "        victorias_1 += 1\n",
    "        print(f\"{nombre_jugador} eligió {jugador}\\nLa máquina eligió {machine}\\n Gana {nombre_jugador}\\n\")\n",
    "        \n",
    "    elif jugador  == 3 and machine == 1: \n",
    "        victorias_1 += 1\n",
    "        print(f\" {nombre_jugador} eligió {jugador}\\nLa máquina eligió {machine}\\n Gana {nombre_jugador}\\n\")\n",
    "        \n",
    "    else: \n",
    "        victorias_2 += 1 \n",
    "        print(f\"{nombre_jugador} eligió {jugador}\\nLa máquina eligió {machine}\\n Te ha ganado el ordenador\\n\")\n",
    "        \n",
    "    if victorias_2 == 3 or victorias_1 == 3:\n",
    "        break\n",
    "    \n",
    "if victorias_1 > victorias_2:\n",
    "    print(f\"El mejor de 3 ha sido {nombre_jugador} 🥳\\n\")\n",
    "else:\n",
    "    print(f\"El mejor de 3 ha sido la máquina. {nombre_jugador} ha perdido 😔\\n\")\n",
    "    \n",
    "input(f\"{nombre_jugador}, ¿quieres volver a jugar?\")"
   ]
  },
  {
   "cell_type": "code",
   "execution_count": 11,
   "metadata": {},
   "outputs": [
    {
     "name": "stdout",
     "output_type": "stream",
     "text": [
      "jugador eligió piedra\n",
      "máquina eligió piedra\n"
     ]
    }
   ],
   "source": [
    "import random\n",
    "\n",
    "opciones = [\"piedra\", \"tijera\", \"papel\"]\n",
    "\n",
    "nombre_jugador = str(input(\"Introduce tu nombre:\"))\n",
    "\n",
    "def eleccion(jugador):\n",
    "\n",
    "    if jugador.lower() in opciones:\n",
    "        return jugador  # Debería empezar el juego\n",
    "    \n",
    "    else: \n",
    "        return eleccion(input(\"Elige una entrada válida: piedra, papel o tijera\"))\n",
    "        \n",
    "                         \n",
    "            \n",
    "        \n",
    "\n",
    "# Gana el mejor de 3\n",
    "victorias_1 = 1\n",
    "victorias_2 = 1\n",
    "\n",
    "\n",
    "jugador = eleccion(input(\"Elige piedra, papel o tijera\"))\n",
    "\n",
    "machine = eleccion(random.choice(opciones))\n",
    "\n",
    "print (f\"jugador eligió {jugador}\")\n",
    "\n",
    "print(f\"máquina eligió {machine}\")"
   ]
  },
  {
   "cell_type": "code",
   "execution_count": 2,
   "metadata": {},
   "outputs": [
    {
     "data": {
      "text/plain": [
       "''"
      ]
     },
     "execution_count": 2,
     "metadata": {},
     "output_type": "execute_result"
    }
   ],
   "source": [
    "nombre_jugador"
   ]
  }
 ],
 "metadata": {
  "kernelspec": {
   "display_name": "base",
   "language": "python",
   "name": "python3"
  },
  "language_info": {
   "codemirror_mode": {
    "name": "ipython",
    "version": 3
   },
   "file_extension": ".py",
   "mimetype": "text/x-python",
   "name": "python",
   "nbconvert_exporter": "python",
   "pygments_lexer": "ipython3",
   "version": "3.12.7"
  }
 },
 "nbformat": 4,
 "nbformat_minor": 2
}
